{
 "cells": [
  {
   "cell_type": "markdown",
   "metadata": {},
   "source": [
    "# Fondos de inversión\n",
    "\n",
    "\n",
    "# 1. Objetivos\n",
    "## 1.1 Objetivo General\n",
    "Ser capaces de poder visualizar la mejor opción en el que se alcanzará una meta establecida con distintas tasas de interés mediante el cálculo de interés compuesto.\n",
    "\n",
    "## 1.2 Objetivos específicos\n",
    "1.2.1 Analizar las 3 diferentes opciones que se nos ofrecen.\n",
    "\n",
    "1.2.2 Estimar el periodo de tiempo que tardaríamos en llegar a la meta establecida con cada una de las opciones.\n",
    "\n",
    "1.2.3 Obtener el mejor fondo de inversión.\n",
    "\n",
    "## 1.3 Planteamiento del problema\n",
    "1.3.1 Un padre de familia se acaba de jubilar y ha recibido la cantidad de 600,000 pesos por su finiquito, desea conocer qué le conviene más si desea invertir su dinero en un fondo de inversión que cubra el costo de $900,000 de la carrera universitaria de su hija con apenas 12 años."
   ]
  },
  {
   "cell_type": "markdown",
   "metadata": {},
   "source": [
    "## 1.4 Resultados\n",
    "Las ganancias por banco sería las siguientes:\n",
    "\n",
    "\n",
    "|BBVA|HSBC|BANORTE|\n",
    "|---|----|----|\n",
    "|903,102.45|900,740.81|901184.97|\n",
    "\n",
    "El tiempo que tomará en meses llegar a esta cantidad es de:\n",
    "\n",
    "|BBVA|HSBC|BANORTE|\n",
    "|---|----|----|\n",
    "|51|59|68|\n",
    "\n",
    "## 1.5 Conclusión\n",
    "Bajo el análisis de los fondos de inversión llegamos a la conclusión que el fondo que le conviene es el de BBVA ya que es en el que tarda menos tiempo en llegar a su capital deseado de ahorro que es $900,000.00.\n",
    "Si bien es cierto que en las gráficas se puede ver que el eje “x” es el que tiene mayor numeración, es un fondo cuyo interés compuesto se capitaliza cada mes a diferencia de los otros fondos que cada periodo se refieren a bimestres y trimestres. \n",
    "Es atractivo en un primer momento optar por el fondo que ofrece una mayor tasa de interés como lo es Banorte, pero el hecho de que sea trimestral implica que haya menos periodos de capitalización y por consiguiente tome más tiempo llegar a la meta.\n"
   ]
  },
  {
   "cell_type": "markdown",
   "metadata": {},
   "source": [
    "## 1.6 Referencias\n",
    "BBVA. (2019). Fondos de inversión . 01/10/2019, de BBVA Sitio web: • https://www.bbva.mx/personas/productos/inversion/fondos-de-inversion.html\n",
    "\n",
    "HSBC. (2019). Fondo de inversión. 01/10/2019, de HSBC Sitio web: https://www.hsbc.com.mx/inversiones-fondos/fondos-de-inversion/\n",
    "\n",
    "BANORTE. (2019). Fondo de inversión. 01/10/2019, de BANORTE Sitio web:\n",
    " https://www.circulopymebanorte.com/\n"
   ]
  },
  {
   "cell_type": "code",
   "execution_count": null,
   "metadata": {},
   "outputs": [],
   "source": []
  }
 ],
 "metadata": {
  "kernelspec": {
   "display_name": "Python 3",
   "language": "python",
   "name": "python3"
  },
  "language_info": {
   "codemirror_mode": {
    "name": "ipython",
    "version": 3
   },
   "file_extension": ".py",
   "mimetype": "text/x-python",
   "name": "python",
   "nbconvert_exporter": "python",
   "pygments_lexer": "ipython3",
   "version": "3.7.1"
  }
 },
 "nbformat": 4,
 "nbformat_minor": 2
}
